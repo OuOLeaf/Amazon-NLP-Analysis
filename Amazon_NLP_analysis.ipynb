{
 "cells": [
  {
   "cell_type": "markdown",
   "metadata": {},
   "source": [
    "# Magazine Review Analysis and Popularity Scoring\n",
    "\n",
    "This notebook demonstrates the process of analyzing magazine reviews and calculating popularity scores using sentiment analysis and ratings data. The analysis follows these main steps:\n",
    "\n",
    "1. Collect and prepare review data\n",
    "2. Perform sentiment analysis on reviews\n",
    "3. Calculate composite popularity scores\n",
    "\n",
    "## Step 1: Import Required Libraries"
   ]
  },
  {
   "cell_type": "code",
   "execution_count": null,
   "metadata": {},
   "outputs": [],
   "source": [
    "import pandas as pd\n",
    "import numpy as np\n",
    "import nltk\n",
    "from nltk.sentiment import SentimentIntensityAnalyzer\n",
    "import matplotlib.pyplot as plt\n",
    "import seaborn as sns\n",
    "\n",
    "# Download required NLTK data\n",
    "try:\n",
    "    nltk.data.find('vader_lexicon')\n",
    "except LookupError:\n",
    "    print(\"Downloading VADER lexicon...\")\n",
    "    nltk.download('vader_lexicon')"
   ]
  },
  {
   "cell_type": "markdown",
   "metadata": {},
   "source": [
    "## Step 2: Load and Prepare Review Data"
   ]
  },
  {
   "cell_type": "code",
   "execution_count": null,
   "metadata": {},
   "outputs": [],
   "source": [
    "# Load the magazine subscription data\n",
    "input_csv = \"Magazine_Subscriptions.csv\"\n",
    "df = pd.read_csv(input_csv)\n",
    "\n",
    "# Display basic information about the dataset\n",
    "print(\"Dataset Info:\")\n",
    "print(df.info())\n",
    "print(\"\\nSample of the data:\")\n",
    "display(df.head())\n",
    "\n",
    "# Check for missing values\n",
    "print(\"\\nMissing values:\")\n",
    "display(df.isnull().sum())"
   ]
  },
  {
   "cell_type": "markdown",
   "metadata": {},
   "source": [
    "## Step 3: Perform Sentiment Analysis"
   ]
  },
  {
   "cell_type": "code",
   "execution_count": null,
   "metadata": {},
   "outputs": [],
   "source": [
    "# Initialize the sentiment analyzer\n",
    "sia = SentimentIntensityAnalyzer()\n",
    "\n",
    "# Function to classify sentiment\n",
    "def classify_sentiment(text):\n",
    "    if not isinstance(text, str):\n",
    "        return 'Neutral'\n",
    "    \n",
    "    scores = sia.polarity_scores(text)\n",
    "    compound_score = scores['compound']\n",
    "    \n",
    "    if compound_score > 0.05:\n",
    "        return 'Positive'\n",
    "    elif compound_score < -0.05:\n",
    "        return 'Negative'\n",
    "    else:\n",
    "        return 'Neutral'\n",
    "\n",
    "# Apply sentiment analysis to reviews\n",
    "df['sentiment'] = df['reviewText'].apply(classify_sentiment)\n",
    "\n",
    "# Display sentiment distribution\n",
    "sentiment_counts = df['sentiment'].value_counts()\n",
    "print(\"Sentiment Distribution:\")\n",
    "display(sentiment_counts)\n",
    "\n",
    "# Visualize sentiment distribution\n",
    "plt.figure(figsize=(8, 6))\n",
    "sns.countplot(data=df, x='sentiment')\n",
    "plt.title('Distribution of Review Sentiments')\n",
    "plt.show()"
   ]
  },
  {
   "cell_type": "markdown",
   "metadata": {},
   "source": [
    "## Step 4: Calculate Composite Popularity Score\n",
    "This consensus score algorithm is based on the methodology presented in ConTrip: Consensus Sentiment Review Analysis and Platform Ratings in a Single Score (arXiv:2201.02113)."
   ]
  },
  {
   "cell_type": "code",
   "execution_count": null,
   "metadata": {},
   "outputs": [],
   "source": [
    "# Group by magazine and calculate metrics\n",
    "magazine_stats = df.groupby('asin').agg({\n",
    "    'overall': 'mean',\n",
    "    'sentiment': lambda x: (x == 'Positive').mean() * 100,\n",
    "    'reviewText': 'count'\n",
    "}).rename(columns={\n",
    "    'overall': 'average_rating',\n",
    "    'sentiment': 'positive_percentage',\n",
    "    'reviewText': 'total_reviews'\n",
    "})\n",
    "\n",
    "# Filter magazines with sufficient reviews\n",
    "magazine_stats = magazine_stats[magazine_stats['total_reviews'] >= 100]\n",
    "\n",
    "# Define constants for ConTrip score calculation\n",
    "alpha = 0.5\n",
    "beta = 10\n",
    "delta = 100\n",
    "\n",
    "# Calculate ConTrip score\n",
    "magazine_stats['contrip'] = magazine_stats.apply(\n",
    "    lambda row: min(5, row['average_rating'] + (row['positive_percentage']/100 - 0.5) * alpha) \n",
    "                - ((1 - row['positive_percentage']/100) * row['average_rating'] / beta) \n",
    "                - ((5 - row['average_rating']) / delta),\n",
    "    axis=1\n",
    ")\n",
    "\n",
    "# Display results\n",
    "print(\"Top 10 Magazines by ConTrip Score:\")\n",
    "display(magazine_stats.sort_values('contrip', ascending=False).head(10))\n",
    "\n",
    "# Visualize relationship between rating and sentiment\n",
    "plt.figure(figsize=(10, 6))\n",
    "sns.scatterplot(data=magazine_stats, x='average_rating', y='positive_percentage', size='total_reviews')\n",
    "plt.title('Relationship between Rating and Positive Sentiment Percentage')\n",
    "plt.xlabel('Average Rating')\n",
    "plt.ylabel('Positive Sentiment Percentage')\n",
    "plt.show()"
   ]
  },
  {
   "cell_type": "markdown",
   "metadata": {},
   "source": [
    "## Step 5: Export Results"
   ]
  },
  {
   "cell_type": "code",
   "execution_count": null,
   "metadata": {},
   "outputs": [],
   "source": [
    "# Export results to CSV\n",
    "magazine_stats.to_csv('magazine_analysis_results.csv')\n",
    "print(\"Results exported to 'magazine_analysis_results.csv'\")"
   ]
  }
 ],
 "metadata": {
  "kernelspec": {
   "display_name": "Python 3",
   "language": "python",
   "name": "python3"
  },
  "language_info": {
   "codemirror_mode": {
    "name": "ipython",
    "version": 3
   },
   "file_extension": ".py",
   "mimetype": "text/x-python",
   "name": "python",
   "nbconvert_exporter": "python",
   "pygments_lexer": "ipython3",
   "version": "3.8.0"
  }
 },
 "nbformat": 4,
 "nbformat_minor": 4
}
